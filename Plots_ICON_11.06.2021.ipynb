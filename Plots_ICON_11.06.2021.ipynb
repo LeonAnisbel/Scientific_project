{
 "cells": [
  {
   "cell_type": "code",
   "execution_count": null,
   "id": "6fdb512a-243e-481a-af07-bca0bc96b25a",
   "metadata": {},
   "outputs": [],
   "source": []
  }
 ],
 "metadata": {
  "kernelspec": {
   "display_name": "Python (scientific_project)",
   "language": "python",
   "name": "scientific_project"
  },
  "language_info": {
   "codemirror_mode": {
    "name": "ipython",
    "version": 3
   },
   "file_extension": ".py",
   "mimetype": "text/x-python",
   "name": "python",
   "nbconvert_exporter": "python",
   "pygments_lexer": "ipython3",
   "version": "3.8.8"
  }
 },
 "nbformat": 4,
 "nbformat_minor": 5
}
