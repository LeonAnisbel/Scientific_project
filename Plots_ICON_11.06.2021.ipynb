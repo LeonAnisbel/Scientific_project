{
 "cells": [
  {
   "cell_type": "markdown",
   "id": "f6cd13b3-5cca-4059-a4b4-f47bfd5854f5",
   "metadata": {},
   "source": [
    "## *ICON-HAM* model output plots\n",
    "\n",
    "#### What does ICON-HAM stands for?\n",
    "> ##### The name *ICON* stands for *ICOsahedral Nonhydrostatic model*. \n",
    "> ##### It is in fact a collection of models to compute the general circulation of the atmosphere and the ocean including a land surface model.\n",
    "> ##### On the other hand, *HAM* describes the aerosol size spectrum (Vignati et al., 2004).\n",
    "\n",
    "> Click here to know more about <a href=\"https://code.mpimet.mpg.de/projects/iconpublic\">ICON </a> or <a href=\"https://www.semanticscholar.org/paper/M7%3A-An-efficient-size%E2%80%90resolved-aerosol-microphysics-Vignati-Wilson/b8b0e9b2bf9089caf4ad2609f0744beb473627cd\">ICON-HAM</a>  \n",
    "\n"
   ]
  },
  {
   "cell_type": "markdown",
   "id": "60cbedd2-c6fa-48ea-ba95-686db8a11980",
   "metadata": {},
   "source": [
    "##### The data used for making the plots are available under <a href=\"https://figshare.com/articles/dataset/2d_ml_19991201T000000Z_nc/14770305\"> this link </a>.\n",
    "\n",
    "\n",
    "\n",
    "\n"
   ]
  },
  {
   "cell_type": "markdown",
   "id": "4c0c6779-6651-412d-b166-bef1e2c965ef",
   "metadata": {},
   "source": [
    "\n",
    "<br/><br/>"
   ]
  },
  {
   "cell_type": "markdown",
   "id": "8754a61c-47c1-4075-ad46-0982fcb0e617",
   "metadata": {},
   "source": [
    "<hr style=\"height:10px;background-color:gray;width:70%\">\n"
   ]
  },
  {
   "cell_type": "markdown",
   "id": "09d22102-c54d-45f8-81e3-44189e4ba1be",
   "metadata": {},
   "source": [
    "##### You will need to update the variable \"path\" to the new directory where the netcdf file is\n",
    "##### Setting global variables "
   ]
  },
  {
   "cell_type": "code",
   "execution_count": 4,
   "id": "e258cc0b-28bb-42c0-836e-2d1626ab532c",
   "metadata": {},
   "outputs": [],
   "source": [
    "path = \"/home/jovyan/scientific_project/Dataset/\""
   ]
  },
  {
   "cell_type": "markdown",
   "id": "7b77f797-6132-4743-9b24-a397721ef79b",
   "metadata": {},
   "source": [
    "<br/>"
   ]
  },
  {
   "cell_type": "markdown",
   "id": "daf1f89a-942d-4498-b440-7b857f3ca118",
   "metadata": {},
   "source": [
    "##### Importing the packages required"
   ]
  },
  {
   "cell_type": "code",
   "execution_count": 8,
   "id": "b3b02b85-9d3a-443b-9133-abbb42963dde",
   "metadata": {},
   "outputs": [],
   "source": [
    "from netCDF4 import Dataset\n",
    "import ipywidgets as widgets\n",
    "from plot_utils import function_plot\n",
    "import os\n"
   ]
  },
  {
   "cell_type": "markdown",
   "id": "05114115-1c5c-4b93-a5b0-eadb7744a123",
   "metadata": {},
   "source": [
    "<br/>"
   ]
  },
  {
   "cell_type": "markdown",
   "id": "aa37b745-700e-4296-ace7-648714572495",
   "metadata": {},
   "source": [
    "##### Functions (declaration)"
   ]
  },
  {
   "cell_type": "code",
   "execution_count": 9,
   "id": "7d2f0d08-bf11-4c21-b1c6-7ea473352d78",
   "metadata": {},
   "outputs": [],
   "source": [
    "def main_func(long):\n",
    "    \"\"\"\n",
    "    Read the variables from the netcdf file and call the function \n",
    "    to generate the plots  \n",
    "    \"\"\"\n",
    "    ncf = Dataset(path + \"2d_ml_19991201T000000Z.nc\", mode='r')\n",
    "    lats = ncf.variables['lat'][:]            # latitudes                         \n",
    "    lons = ncf.variables['lon'][:]            # longitudes\n",
    "    precip = ncf.variables['pr'][0]           # precipitation \n",
    "    T2m = ncf.variables['tas'][0]             # 2 m temperature \n",
    "\n",
    "    function_plot(lats,lons,T2m - 273,long,\n",
    "                  xlab = 'Latitude $({^0})$ ', \n",
    "                  ylab = 'Temperature $({^0}C)$',\n",
    "                  title = 'Surface Temperature at $30 {^0}W$')\n",
    "\n"
   ]
  },
  {
   "cell_type": "markdown",
   "id": "8f3123ea-5ce3-4cb7-b487-3b6ba07d2184",
   "metadata": {},
   "source": [
    "<br/>"
   ]
  },
  {
   "cell_type": "markdown",
   "id": "b01bc291-d7ea-497c-a639-b4831d820970",
   "metadata": {},
   "source": [
    "<br/>"
   ]
  },
  {
   "cell_type": "markdown",
   "id": "166b4917-ab5c-4bdc-8831-56ef3f35c3a9",
   "metadata": {},
   "source": [
    "#### Using *interact* function to create *Widgets* with Matplotlib  <a href=\"https://kapernikov.com/ipywidgets-with-matplotlib/\"> (More about *Widgets*) </a>.\n"
   ]
  },
  {
   "cell_type": "markdown",
   "id": "c491a464-62d0-46eb-bc60-985595b6239c",
   "metadata": {},
   "source": [
    "<br/>"
   ]
  },
  {
   "cell_type": "code",
   "execution_count": 11,
   "id": "83fc5e0c-5fc1-497d-b63a-520d608f06a0",
   "metadata": {},
   "outputs": [
    {
     "data": {
      "application/vnd.jupyter.widget-view+json": {
       "model_id": "add127b6be694cceb007c54f12ed67cf",
       "version_major": 2,
       "version_minor": 0
      },
      "text/plain": [
       "interactive(children=(IntSlider(value=170, description='long', max=359, step=10), Output()), _dom_classes=('wi…"
      ]
     },
     "metadata": {},
     "output_type": "display_data"
    },
    {
     "data": {
      "text/plain": [
       "<function __main__.main_func(long)>"
      ]
     },
     "execution_count": 11,
     "metadata": {},
     "output_type": "execute_result"
    }
   ],
   "source": [
    "widgets.interact(main_func, long=(0, 359, 10))"
   ]
  },
  {
   "cell_type": "code",
   "execution_count": null,
   "id": "e300f2f6-3650-4918-a9e7-3d92f2484d02",
   "metadata": {},
   "outputs": [],
   "source": []
  }
 ],
 "metadata": {
  "kernelspec": {
   "display_name": "Python (scientific_project)",
   "language": "python",
   "name": "scientific_project"
  },
  "language_info": {
   "codemirror_mode": {
    "name": "ipython",
    "version": 3
   },
   "file_extension": ".py",
   "mimetype": "text/x-python",
   "name": "python",
   "nbconvert_exporter": "python",
   "pygments_lexer": "ipython3",
   "version": "3.8.8"
  }
 },
 "nbformat": 4,
 "nbformat_minor": 5
}
